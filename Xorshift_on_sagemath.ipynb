{
 "cells": [
  {
   "cell_type": "markdown",
   "metadata": {},
   "source": [
    "# Xorshift Random Number Generator in Sagemath/Jupyter, @iwaokimura"
   ]
  },
  {
   "cell_type": "markdown",
   "metadata": {},
   "source": [
    "G. Marsagliaの乱数生成器xorshiftを，sagemathで試てみる．この乱数は，2元体上の $N$ 次元ベクトル空間 $V$ のある元 $x$ を初期値として選び，$V$ 上の線形変換 $T$ を $x$ に繰り返し施した値 $T^m(x)$ を生成した乱数値とするものである．\n",
    "\n",
    "2元体での演算が xor と同じであることにまず注意しよう．ビット列についても同様に，ビット列の xor と，2元体上のベクトル空間の成分の和が同じものになる．更に，ビット列の左，右シフトが，2元体上のベクトル空間の線形変換 $L, R$（後述）になる．以上から，線形変換 $T$ として，次のような特別なものに注目することを思いつく：\n",
    "$T$ を，$a, b, c$ を適切に選んで， $T=(1+L^a)(1+R^b)(1+L^c)$ とする．「適切に」というのは，$T$ の（$V$ 上の線形変換としての）位数が十分大きくなるように（正確には，$T$ の位数が $2^N-1$ になるように），という意味である．\n",
    "\n",
    "以上の詳細については，「Google Chromeが採用した、擬似乱数生成アルゴリズム「xorshift」の数理」https://blog.visvirial.com/articles/575 が大変読みやすい解説である．同記事では，Python3でのコードが掲載されている．本稿の目的は，同じことをsagemathで行うと，ほぼ何も実装せずに済む，ということのデモである．Sagemathは今すぐに https://cloud.sagemath.com/ で始めることができる．\n",
    "\n",
    "以下では，$N=32$ として，$T$ の位数が $2^N-1$ となる $a, b, c$ の探索を行う．これは，G. Marsaglia, Xorshift RNGs, http://dx.doi.org/10.18637/jss.v008.i14 のはじめの2ページほどに相当する．"
   ]
  },
  {
   "cell_type": "code",
   "execution_count": 9,
   "metadata": {
    "collapsed": true
   },
   "outputs": [],
   "source": [
    "N=32; # 次元"
   ]
  },
  {
   "cell_type": "code",
   "execution_count": 2,
   "metadata": {
    "collapsed": false
   },
   "outputs": [
    {
     "data": {
      "text/plain": [
       "General Linear Group of degree 32 over Finite Field of size 2"
      ]
     },
     "execution_count": 2,
     "metadata": {},
     "output_type": "execute_result"
    }
   ],
   "source": [
    "G = GL(N, FiniteField(2)); G # 2元体上の，N 次正則（可逆）行列の群"
   ]
  },
  {
   "cell_type": "code",
   "execution_count": 3,
   "metadata": {
    "collapsed": false
   },
   "outputs": [
    {
     "data": {
      "text/plain": [
       "51915237608802545834650365775747737098229791081502830361375666998864635954655274189188618336673413249941113660054889860892524028523586055095785930107241175599128831839106952836064314134436759863399605193683057244940843342962051291562930060275608907956668714644423971391788961835934547494654875533312000000000"
      ]
     },
     "execution_count": 3,
     "metadata": {},
     "output_type": "execute_result"
    }
   ],
   "source": [
    "G.order() # 試しに G の位数を計算する．"
   ]
  },
  {
   "cell_type": "code",
   "execution_count": 4,
   "metadata": {
    "collapsed": false
   },
   "outputs": [
    {
     "data": {
      "text/plain": [
       "2^496 * 3^22 * 5^9 * 7^11 * 11^3 * 13^2 * 17^4 * 19 * 23^2 * 29 * 31^6 * 41 * 43^2 * 47 * 73^3 * 89^2 * 113 * 127^4 * 151^2 * 233 * 241 * 257^2 * 331 * 337 * 601 * 683 * 1103 * 1801 * 2089 * 2731 * 8191^2 * 65537 * 131071 * 178481 * 262657 * 524287 * 2147483647"
      ]
     },
     "execution_count": 4,
     "metadata": {},
     "output_type": "execute_result"
    }
   ],
   "source": [
    "G.order().factor() # 素因数分解してみる"
   ]
  },
  {
   "cell_type": "markdown",
   "metadata": {},
   "source": [
    "$G$ はこのあとは登場しないが，以下で現れる $I+L^a$, $I+R^b$ などや，それらの積である $T$ はいずれも正則行列（可逆行列）で，$G$ の元である．\n",
    "\n",
    "まず，左シフトに相当する行列 $L$ の成分を与える関数を用意する．(1,2), (2, 3), ..., (31, 32)成分が1, あとはすべて0である行列である．つまり，i行j列の成分が，i+1 == j のとき1, それ以外の時 0 である．ただし，sagemathでは行列，ベクトルは0番目の成分から数えることに注意する．"
   ]
  },
  {
   "cell_type": "code",
   "execution_count": 1,
   "metadata": {
    "collapsed": true
   },
   "outputs": [],
   "source": [
    "def Lcoeff(i, j):\n",
    "    if i+1 == j:\n",
    "        return FiniteField(2).one()\n",
    "    else:\n",
    "        return FiniteField(2).zero()"
   ]
  },
  {
   "cell_type": "markdown",
   "metadata": {},
   "source": [
    "試しに数字を列挙してみる（出力は長いので省略）："
   ]
  },
  {
   "cell_type": "code",
   "execution_count": null,
   "metadata": {
    "collapsed": false
   },
   "outputs": [],
   "source": [
    "for i in range(0, 32):\n",
    "    for j in range(0, 32):\n",
    "        print(i, j, Lcoeff(i,j))"
   ]
  },
  {
   "cell_type": "markdown",
   "metadata": {},
   "source": [
    "上の関数 Lcoeff() を元に，左シフトに対応する行列Lを作る："
   ]
  },
  {
   "cell_type": "code",
   "execution_count": 6,
   "metadata": {
    "collapsed": false
   },
   "outputs": [],
   "source": [
    "L = matrix([[Lcoeff(i,j) for j in range(32)] for i in range(32)])"
   ]
  },
  {
   "cell_type": "code",
   "execution_count": 7,
   "metadata": {
    "collapsed": false
   },
   "outputs": [
    {
     "data": {
      "text/plain": [
       "<type 'sage.matrix.matrix_mod2_dense.Matrix_mod2_dense'>"
      ]
     },
     "execution_count": 7,
     "metadata": {},
     "output_type": "execute_result"
    }
   ],
   "source": [
    "type(L)"
   ]
  },
  {
   "cell_type": "markdown",
   "metadata": {},
   "source": [
    "遅ればせながらここで単位行列を用意する："
   ]
  },
  {
   "cell_type": "code",
   "execution_count": 14,
   "metadata": {
    "collapsed": false
   },
   "outputs": [],
   "source": [
    "idelem = matrix.identity(FiniteField(2), N) # id element"
   ]
  },
  {
   "cell_type": "markdown",
   "metadata": {},
   "source": [
    "以下，右シフトについて同様のことをする．"
   ]
  },
  {
   "cell_type": "code",
   "execution_count": 11,
   "metadata": {
    "collapsed": true
   },
   "outputs": [],
   "source": [
    "def Rcoeff(i, j):\n",
    "    if i == j+1:\n",
    "        return FiniteField(2).one()\n",
    "    else:\n",
    "        return FiniteField(2).zero()"
   ]
  },
  {
   "cell_type": "code",
   "execution_count": 12,
   "metadata": {
    "collapsed": true
   },
   "outputs": [],
   "source": [
    "R = matrix([[Rcoeff(i,j) for j in range(32)] for i in range(32)])"
   ]
  },
  {
   "cell_type": "markdown",
   "metadata": {},
   "source": [
    "あとは，$T=(1+L^s)(1+R^t)(1+L^u)$ の位数を，$s \\le u$ の範囲でループを回しながら計算し，$2^N-1$ になるような $s, t, u$ を列挙するだけ．"
   ]
  },
  {
   "cell_type": "code",
   "execution_count": 22,
   "metadata": {
    "collapsed": false
   },
   "outputs": [],
   "source": [
    "@parallel(p_iter='fork', ncpus=4)\n",
    "def make_list():\n",
    "    c = 0\n",
    "    for s in range(1,32):\n",
    "        for t in range(1, 32):\n",
    "            for u in range(s, 32):\n",
    "                if ((idelem+L^s)*(idelem+R^t)*(idelem+L^u)).multiplicative_order() == 2^N-1:\n",
    "                    c += 1\n",
    "                    print(s, t, u)\n",
    "    print(\"total number = \", c)"
   ]
  },
  {
   "cell_type": "code",
   "execution_count": 23,
   "metadata": {
    "collapsed": false,
    "scrolled": false
   },
   "outputs": [
    {
     "name": "stdout",
     "output_type": "stream",
     "text": [
      "(1, 3, 10)\n",
      "(1, 5, 16)\n",
      "(1, 5, 19)\n",
      "(1, 9, 29)\n",
      "(1, 11, 6)\n",
      "(1, 11, 16)\n",
      "(1, 19, 3)\n",
      "(1, 21, 20)\n",
      "(1, 27, 27)\n",
      "(2, 5, 15)\n",
      "(2, 5, 21)\n",
      "(2, 7, 7)\n",
      "(2, 7, 9)\n",
      "(2, 7, 25)\n",
      "(2, 9, 15)\n",
      "(2, 15, 17)\n",
      "(2, 15, 25)\n",
      "(2, 21, 9)\n",
      "(3, 1, 14)\n",
      "(3, 3, 26)\n",
      "(3, 3, 28)\n",
      "(3, 3, 29)\n",
      "(3, 5, 20)\n",
      "(3, 5, 22)\n",
      "(3, 5, 25)\n",
      "(3, 7, 29)\n",
      "(3, 13, 7)\n",
      "(3, 23, 25)\n",
      "(3, 25, 24)\n",
      "(3, 27, 11)\n",
      "(4, 3, 17)\n",
      "(4, 3, 27)\n",
      "(4, 5, 15)\n",
      "(5, 3, 21)\n",
      "(5, 7, 22)\n",
      "(5, 9, 7)\n",
      "(5, 9, 28)\n",
      "(5, 9, 31)\n",
      "(5, 13, 6)\n",
      "(5, 15, 17)\n",
      "(5, 17, 13)\n",
      "(5, 21, 12)\n",
      "(5, 27, 8)\n",
      "(5, 27, 21)\n",
      "(5, 27, 25)\n",
      "(5, 27, 28)\n",
      "(6, 1, 11)\n",
      "(6, 3, 17)\n",
      "(6, 17, 9)\n",
      "(6, 21, 7)\n",
      "(6, 21, 13)\n",
      "(7, 1, 9)\n",
      "(7, 1, 18)\n",
      "(7, 1, 25)\n",
      "(7, 13, 25)\n",
      "(7, 17, 21)\n",
      "(7, 25, 12)\n",
      "(7, 25, 20)\n",
      "(8, 7, 23)\n",
      "(8, 9, 23)\n",
      "(9, 5, 14)\n",
      "(9, 5, 25)\n",
      "(9, 11, 19)\n",
      "(9, 21, 16)\n",
      "(10, 9, 21)\n",
      "(10, 9, 25)\n",
      "(11, 7, 12)\n",
      "(11, 7, 16)\n",
      "(11, 17, 13)\n",
      "(11, 21, 13)\n",
      "(12, 9, 23)\n",
      "(13, 3, 17)\n",
      "(13, 3, 27)\n",
      "(13, 5, 19)\n",
      "(13, 17, 15)\n",
      "(14, 1, 15)\n",
      "(14, 13, 15)\n",
      "(15, 1, 29)\n",
      "(17, 15, 20)\n",
      "(17, 15, 23)\n",
      "(17, 15, 26)\n",
      "('total number = ', 81)\n"
     ]
    }
   ],
   "source": [
    "make_list()"
   ]
  },
  {
   "cell_type": "markdown",
   "metadata": {},
   "source": [
    "以上．"
   ]
  },
  {
   "cell_type": "code",
   "execution_count": null,
   "metadata": {
    "collapsed": true
   },
   "outputs": [],
   "source": []
  }
 ],
 "metadata": {
  "kernelspec": {
   "display_name": "SageMath 6.10",
   "language": "",
   "name": "sagemath"
  },
  "language_info": {
   "codemirror_mode": {
    "name": "ipython",
    "version": 2
   },
   "file_extension": ".py",
   "mimetype": "text/x-python",
   "name": "python",
   "nbconvert_exporter": "python",
   "pygments_lexer": "ipython2",
   "version": "2.7.10"
  },
  "name": "Xorshift_on_sagemath.ipynb"
 },
 "nbformat": 4,
 "nbformat_minor": 0
}
